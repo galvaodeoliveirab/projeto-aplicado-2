{
 "cells": [
  {
   "metadata": {
    "ExecuteTime": {
     "end_time": "2025-03-04T00:15:58.324063Z",
     "start_time": "2025-03-04T00:15:58.258325Z"
    }
   },
   "cell_type": "code",
   "source": [
    "# Importação das bibliotecas necessárias\n",
    "import pandas as pd\n",
    "import matplotlib.pyplot as plt\n",
    "import seaborn as sns\n",
    "\n",
    "# Configurações visuais para os gráficos\n",
    "sns.set_style(\"darkgrid\")\n",
    "\n",
    "# Leitura dos dados\n",
    "df = pd.read_csv(\"publicacoes_pje_2024.csv\")  # Substitua pelo caminho correto\n",
    "\n",
    "# Convertendo todas as colunas para string\n",
    "df = df.astype(str)\n",
    "\n",
    "# Visualizando as primeiras linhas do dataset\n",
    "df.head()\n"
   ],
   "id": "c5cebc2e7d84e52e",
   "outputs": [
    {
     "data": {
      "text/plain": [
       "         id tipoComunicacao                                              texto\n",
       "0  69230295          Edital  DESAPROPRIAÇÃO  Nº 0104664-34.2015.4.02.5119/R...\n",
       "1  69290615       Intimação  Poder Judiciário da Paraíba 2º Juizado Especia...\n",
       "2  69302804          Edital  PODER JUDICIÁRIO - ESTADO DO RIO GRANDE DO NOR...\n",
       "3  69289807       Intimação  PODER JUDICIÁRIO DO ESTADO DO RIO GRANDE DO NO...\n",
       "4  69387820       Intimação  TRIBUNAL DE JUSTIÇA MILITAR DE SÃO PAULO - POD..."
      ],
      "text/html": [
       "<div>\n",
       "<style scoped>\n",
       "    .dataframe tbody tr th:only-of-type {\n",
       "        vertical-align: middle;\n",
       "    }\n",
       "\n",
       "    .dataframe tbody tr th {\n",
       "        vertical-align: top;\n",
       "    }\n",
       "\n",
       "    .dataframe thead th {\n",
       "        text-align: right;\n",
       "    }\n",
       "</style>\n",
       "<table border=\"1\" class=\"dataframe\">\n",
       "  <thead>\n",
       "    <tr style=\"text-align: right;\">\n",
       "      <th></th>\n",
       "      <th>id</th>\n",
       "      <th>tipoComunicacao</th>\n",
       "      <th>texto</th>\n",
       "    </tr>\n",
       "  </thead>\n",
       "  <tbody>\n",
       "    <tr>\n",
       "      <th>0</th>\n",
       "      <td>69230295</td>\n",
       "      <td>Edital</td>\n",
       "      <td>DESAPROPRIAÇÃO  Nº 0104664-34.2015.4.02.5119/R...</td>\n",
       "    </tr>\n",
       "    <tr>\n",
       "      <th>1</th>\n",
       "      <td>69290615</td>\n",
       "      <td>Intimação</td>\n",
       "      <td>Poder Judiciário da Paraíba 2º Juizado Especia...</td>\n",
       "    </tr>\n",
       "    <tr>\n",
       "      <th>2</th>\n",
       "      <td>69302804</td>\n",
       "      <td>Edital</td>\n",
       "      <td>PODER JUDICIÁRIO - ESTADO DO RIO GRANDE DO NOR...</td>\n",
       "    </tr>\n",
       "    <tr>\n",
       "      <th>3</th>\n",
       "      <td>69289807</td>\n",
       "      <td>Intimação</td>\n",
       "      <td>PODER JUDICIÁRIO DO ESTADO DO RIO GRANDE DO NO...</td>\n",
       "    </tr>\n",
       "    <tr>\n",
       "      <th>4</th>\n",
       "      <td>69387820</td>\n",
       "      <td>Intimação</td>\n",
       "      <td>TRIBUNAL DE JUSTIÇA MILITAR DE SÃO PAULO - POD...</td>\n",
       "    </tr>\n",
       "  </tbody>\n",
       "</table>\n",
       "</div>"
      ]
     },
     "execution_count": 24,
     "metadata": {},
     "output_type": "execute_result"
    }
   ],
   "execution_count": 24
  },
  {
   "metadata": {
    "ExecuteTime": {
     "end_time": "2025-03-04T00:16:06.487909Z",
     "start_time": "2025-03-04T00:16:06.469459Z"
    }
   },
   "cell_type": "code",
   "source": [
    "# Informações gerais sobre os dados\n",
    "df.info()\n",
    "\n",
    "# Verificando valores nulos\n",
    "print(df.isnull().sum())\n",
    "\n",
    "# Preenchendo valores nulos com \"Desconhecido\"\n",
    "df = df.fillna(\"Desconhecido\")\n"
   ],
   "id": "9ec276b9c1e73c89",
   "outputs": [
    {
     "name": "stdout",
     "output_type": "stream",
     "text": [
      "<class 'pandas.core.frame.DataFrame'>\n",
      "RangeIndex: 1200 entries, 0 to 1199\n",
      "Data columns (total 3 columns):\n",
      " #   Column           Non-Null Count  Dtype \n",
      "---  ------           --------------  ----- \n",
      " 0   id               1200 non-null   object\n",
      " 1   tipoComunicacao  1200 non-null   object\n",
      " 2   texto            1200 non-null   object\n",
      "dtypes: object(3)\n",
      "memory usage: 28.3+ KB\n",
      "id                 0\n",
      "tipoComunicacao    0\n",
      "texto              0\n",
      "dtype: int64\n"
     ]
    }
   ],
   "execution_count": 25
  },
  {
   "metadata": {
    "ExecuteTime": {
     "end_time": "2025-03-04T00:16:22.630798Z",
     "start_time": "2025-03-04T00:16:22.485792Z"
    }
   },
   "cell_type": "code",
   "source": [
    "# Configuração do estilo do gráfico\n",
    "sns.set_style(\"darkgrid\")\n",
    "\n",
    "# Criando o gráfico de distribuição dos tipos de comunicação\n",
    "plt.figure(figsize=(10, 5))\n",
    "sns.countplot(\n",
    "    data=df,\n",
    "    y=\"tipoComunicacao\",\n",
    "    order=df[\"tipoComunicacao\"].value_counts().index,  # Ordena pela contagem\n",
    "    palette=\"viridis\"\n",
    ")\n",
    "\n",
    "# Títulos e rótulos\n",
    "plt.title(\"Distribuição dos Tipos de Comunicação\", fontsize=14)\n",
    "plt.xlabel(\"Contagem\", fontsize=12)\n",
    "plt.ylabel(\"Tipo de Comunicação\", fontsize=12)\n",
    "plt.xticks(fontsize=10)\n",
    "plt.yticks(fontsize=10)\n",
    "\n",
    "plt.show()\n"
   ],
   "id": "569261903441a405",
   "outputs": [
    {
     "name": "stderr",
     "output_type": "stream",
     "text": [
      "/var/folders/np/xc72rp7d73zbr05fylcr0sj00000gn/T/ipykernel_1770/1110792403.py:6: FutureWarning: \n",
      "\n",
      "Passing `palette` without assigning `hue` is deprecated and will be removed in v0.14.0. Assign the `y` variable to `hue` and set `legend=False` for the same effect.\n",
      "\n",
      "  sns.countplot(\n"
     ]
    },
    {
     "data": {
      "text/plain": [
       "<Figure size 1000x500 with 1 Axes>"
      ],
      "image/png": "[encoded data removed]"
     },
     "metadata": {},
     "output_type": "display_data"
    }
   ],
   "execution_count": 26
  }
 ],
 "metadata": {
  "kernelspec": {
   "display_name": "Python 3",
   "language": "python",
   "name": "python3"
  },
  "language_info": {
   "codemirror_mode": {
    "name": "ipython",
    "version": 2
   },
   "file_extension": ".py",
   "mimetype": "text/x-python",
   "name": "python",
   "nbconvert_exporter": "python",
   "pygments_lexer": "ipython2",
   "version": "2.7.6"
  }
 },
 "nbformat": 4,
 "nbformat_minor": 5
}
