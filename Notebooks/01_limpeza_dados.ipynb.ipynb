{
 "cells": [
  {
   "cell_type": "code",
   "id": "initial_id",
   "metadata": {
    "collapsed": true,
    "ExecuteTime": {
     "end_time": "2025-04-28T21:46:07.561746Z",
     "start_time": "2025-04-28T21:46:07.558133Z"
    }
   },
   "source": "import pandas as pd\n",
   "outputs": [],
   "execution_count": 6
  },
  {
   "metadata": {
    "ExecuteTime": {
     "end_time": "2025-04-28T21:46:07.643938Z",
     "start_time": "2025-04-28T21:46:07.581051Z"
    }
   },
   "cell_type": "code",
   "source": [
    "df = pd.read_csv('publicacoes_pje_2024.csv')\n",
    "df.head()\n"
   ],
   "id": "25bf46b802813903",
   "outputs": [
    {
     "data": {
      "text/plain": [
       "         id tipoComunicacao                                              texto\n",
       "0  69230295          Edital  DESAPROPRIAÇÃO  Nº 0104664-34.2015.4.02.5119/R...\n",
       "1  69290615       Intimação  Poder Judiciário da Paraíba 2º Juizado Especia...\n",
       "2  69302804          Edital  PODER JUDICIÁRIO - ESTADO DO RIO GRANDE DO NOR...\n",
       "3  69289807       Intimação  PODER JUDICIÁRIO DO ESTADO DO RIO GRANDE DO NO...\n",
       "4  69387820       Intimação  TRIBUNAL DE JUSTIÇA MILITAR DE SÃO PAULO - POD..."
      ],
      "text/html": [
       "<div>\n",
       "<style scoped>\n",
       "    .dataframe tbody tr th:only-of-type {\n",
       "        vertical-align: middle;\n",
       "    }\n",
       "\n",
       "    .dataframe tbody tr th {\n",
       "        vertical-align: top;\n",
       "    }\n",
       "\n",
       "    .dataframe thead th {\n",
       "        text-align: right;\n",
       "    }\n",
       "</style>\n",
       "<table border=\"1\" class=\"dataframe\">\n",
       "  <thead>\n",
       "    <tr style=\"text-align: right;\">\n",
       "      <th></th>\n",
       "      <th>id</th>\n",
       "      <th>tipoComunicacao</th>\n",
       "      <th>texto</th>\n",
       "    </tr>\n",
       "  </thead>\n",
       "  <tbody>\n",
       "    <tr>\n",
       "      <th>0</th>\n",
       "      <td>69230295</td>\n",
       "      <td>Edital</td>\n",
       "      <td>DESAPROPRIAÇÃO  Nº 0104664-34.2015.4.02.5119/R...</td>\n",
       "    </tr>\n",
       "    <tr>\n",
       "      <th>1</th>\n",
       "      <td>69290615</td>\n",
       "      <td>Intimação</td>\n",
       "      <td>Poder Judiciário da Paraíba 2º Juizado Especia...</td>\n",
       "    </tr>\n",
       "    <tr>\n",
       "      <th>2</th>\n",
       "      <td>69302804</td>\n",
       "      <td>Edital</td>\n",
       "      <td>PODER JUDICIÁRIO - ESTADO DO RIO GRANDE DO NOR...</td>\n",
       "    </tr>\n",
       "    <tr>\n",
       "      <th>3</th>\n",
       "      <td>69289807</td>\n",
       "      <td>Intimação</td>\n",
       "      <td>PODER JUDICIÁRIO DO ESTADO DO RIO GRANDE DO NO...</td>\n",
       "    </tr>\n",
       "    <tr>\n",
       "      <th>4</th>\n",
       "      <td>69387820</td>\n",
       "      <td>Intimação</td>\n",
       "      <td>TRIBUNAL DE JUSTIÇA MILITAR DE SÃO PAULO - POD...</td>\n",
       "    </tr>\n",
       "  </tbody>\n",
       "</table>\n",
       "</div>"
      ]
     },
     "execution_count": 7,
     "metadata": {},
     "output_type": "execute_result"
    }
   ],
   "execution_count": 7
  },
  {
   "metadata": {
    "ExecuteTime": {
     "end_time": "2025-04-28T21:46:07.699716Z",
     "start_time": "2025-04-28T21:46:07.691139Z"
    }
   },
   "cell_type": "code",
   "source": "df.isnull().sum()\n",
   "id": "23bd8e6b66459deb",
   "outputs": [
    {
     "data": {
      "text/plain": [
       "id                 0\n",
       "tipoComunicacao    0\n",
       "texto              2\n",
       "dtype: int64"
      ]
     },
     "execution_count": 8,
     "metadata": {},
     "output_type": "execute_result"
    }
   ],
   "execution_count": 8
  },
  {
   "metadata": {
    "ExecuteTime": {
     "end_time": "2025-04-28T21:46:07.824490Z",
     "start_time": "2025-04-28T21:46:07.812982Z"
    }
   },
   "cell_type": "code",
   "source": [
    "df = df.dropna(subset=['texto'])\n",
    "df.isnull().sum()\n"
   ],
   "id": "56818c9d7f8dd3d5",
   "outputs": [
    {
     "data": {
      "text/plain": [
       "id                 0\n",
       "tipoComunicacao    0\n",
       "texto              0\n",
       "dtype: int64"
      ]
     },
     "execution_count": 9,
     "metadata": {},
     "output_type": "execute_result"
    }
   ],
   "execution_count": 9
  },
  {
   "metadata": {
    "ExecuteTime": {
     "end_time": "2025-04-28T21:46:08.153877Z",
     "start_time": "2025-04-28T21:46:08.041763Z"
    }
   },
   "cell_type": "code",
   "source": [
    "df.shape\n",
    "df.to_csv('publicacoes_pje_2024_tratado.csv', index=False)\n"
   ],
   "id": "d810f43120eaefaf",
   "outputs": [],
   "execution_count": 10
  }
 ],
 "metadata": {
  "kernelspec": {
   "display_name": "Python 3",
   "language": "python",
   "name": "python3"
  },
  "language_info": {
   "codemirror_mode": {
    "name": "ipython",
    "version": 2
   },
   "file_extension": ".py",
   "mimetype": "text/x-python",
   "name": "python",
   "nbconvert_exporter": "python",
   "pygments_lexer": "ipython2",
   "version": "2.7.6"
  }
 },
 "nbformat": 4,
 "nbformat_minor": 5
}
