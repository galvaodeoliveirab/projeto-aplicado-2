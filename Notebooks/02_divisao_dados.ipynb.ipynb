{
 "cells": [
  {
   "cell_type": "code",
   "id": "initial_id",
   "metadata": {
    "collapsed": true,
    "ExecuteTime": {
     "end_time": "2025-04-28T21:46:25.552299Z",
     "start_time": "2025-04-28T21:46:25.550009Z"
    }
   },
   "source": [
    ""
   ],
   "outputs": [],
   "execution_count": null
  },
  {
   "metadata": {
    "ExecuteTime": {
     "end_time": "2025-04-28T21:46:26.065781Z",
     "start_time": "2025-04-28T21:46:25.560145Z"
    }
   },
   "cell_type": "code",
   "source": [
    "import pandas as pd\n",
    "from sklearn.model_selection import train_test_split\n"
   ],
   "id": "5fc12784349a3135",
   "outputs": [],
   "execution_count": 1
  },
  {
   "metadata": {
    "ExecuteTime": {
     "end_time": "2025-04-28T21:46:26.344409Z",
     "start_time": "2025-04-28T21:46:26.271622Z"
    }
   },
   "cell_type": "code",
   "source": [
    "\n",
    "df = pd.read_csv('publicacoes_pje_2024_tratado.csv')\n",
    "\n"
   ],
   "id": "ba424f6161317a72",
   "outputs": [],
   "execution_count": 2
  },
  {
   "metadata": {
    "ExecuteTime": {
     "end_time": "2025-04-28T21:46:26.356814Z",
     "start_time": "2025-04-28T21:46:26.352599Z"
    }
   },
   "cell_type": "code",
   "source": [
    "X = df['texto']\n",
    "y = df['tipoComunicacao']\n"
   ],
   "id": "a84a2bca428ff8",
   "outputs": [],
   "execution_count": 3
  },
  {
   "metadata": {
    "ExecuteTime": {
     "end_time": "2025-04-28T21:46:26.390924Z",
     "start_time": "2025-04-28T21:46:26.382225Z"
    }
   },
   "cell_type": "code",
   "source": [
    "X_train, X_test, y_train, y_test = train_test_split(\n",
    "    X, y, test_size=0.2, random_state=42\n",
    ")\n"
   ],
   "id": "f6ebc06b6249ca58",
   "outputs": [],
   "execution_count": 4
  },
  {
   "metadata": {
    "ExecuteTime": {
     "end_time": "2025-04-28T21:46:26.420410Z",
     "start_time": "2025-04-28T21:46:26.409638Z"
    }
   },
   "cell_type": "code",
   "source": [
    "print(f'Tamanho treino: {X_train.shape[0]} registros')\n",
    "print(f'Tamanho teste: {X_test.shape[0]} registros')\n"
   ],
   "id": "1345c2cbfff17b14",
   "outputs": [
    {
     "name": "stdout",
     "output_type": "stream",
     "text": [
      "Tamanho treino: 958 registros\n",
      "Tamanho teste: 240 registros\n"
     ]
    }
   ],
   "execution_count": 5
  }
 ],
 "metadata": {
  "kernelspec": {
   "display_name": "Python 3",
   "language": "python",
   "name": "python3"
  },
  "language_info": {
   "codemirror_mode": {
    "name": "ipython",
    "version": 2
   },
   "file_extension": ".py",
   "mimetype": "text/x-python",
   "name": "python",
   "nbconvert_exporter": "python",
   "pygments_lexer": "ipython2",
   "version": "2.7.6"
  }
 },
 "nbformat": 4,
 "nbformat_minor": 5
}
